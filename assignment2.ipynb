{
 "cells": [
  {
   "cell_type": "markdown",
   "id": "30e2a0d0-7cdf-4e83-8da9-0d97dd1de23e",
   "metadata": {},
   "source": [
    "Question-1"
   ]
  },
  {
   "cell_type": "markdown",
   "id": "19f43637-9935-4d92-aeda-0907b559af5c",
   "metadata": {},
   "source": [
    "-->def   keyword is used to create a function in python."
   ]
  },
  {
   "cell_type": "markdown",
   "id": "c98ea608-5609-44e9-884b-fc8b2500d762",
   "metadata": {},
   "source": [
    "function for return a list of odd num from range 1 to 25"
   ]
  },
  {
   "cell_type": "code",
   "execution_count": 13,
   "id": "bb347f3e-7cc2-4546-8f1e-dc850dabbe44",
   "metadata": {},
   "outputs": [],
   "source": [
    "p=range(1,26)\n",
    "def odd(p):\n",
    "    l=[]\n",
    "    for i in p:\n",
    "        if i%2 !=0:\n",
    "            l.append(i)\n",
    "    return l    "
   ]
  },
  {
   "cell_type": "code",
   "execution_count": 14,
   "id": "88b67717-6000-47ee-8767-0aa29889882b",
   "metadata": {},
   "outputs": [
    {
     "data": {
      "text/plain": [
       "[1, 3, 5, 7, 9, 11, 13, 15, 17, 19, 21, 23, 25]"
      ]
     },
     "execution_count": 14,
     "metadata": {},
     "output_type": "execute_result"
    }
   ],
   "source": [
    "odd(p)"
   ]
  },
  {
   "cell_type": "markdown",
   "id": "de6284d4-fa89-4089-8b16-304840288e4b",
   "metadata": {},
   "source": [
    "Question-2"
   ]
  },
  {
   "cell_type": "markdown",
   "id": "eecfc08f-d40d-4aa1-8b05-b4a5d9ac36b3",
   "metadata": {},
   "source": [
    "*args is keyword through which we can pass any variable length argument to a function.*args store the data in the form of tuple\n",
    "**kwargs is also a keyword through which we can pass arguments as the parameters for the function.**kwargs keyword stored a list in the form of dictonary of key-values pairs."
   ]
  },
  {
   "cell_type": "code",
   "execution_count": 15,
   "id": "4ae2d71f-1b12-464c-9565-e69891f91a44",
   "metadata": {},
   "outputs": [],
   "source": [
    "def fun(*args):\n",
    "    return args"
   ]
  },
  {
   "cell_type": "code",
   "execution_count": 16,
   "id": "204a1ca4-822d-4e52-b536-9fa8db930608",
   "metadata": {},
   "outputs": [
    {
     "data": {
      "text/plain": [
       "tuple"
      ]
     },
     "execution_count": 16,
     "metadata": {},
     "output_type": "execute_result"
    }
   ],
   "source": [
    "type(fun())"
   ]
  },
  {
   "cell_type": "code",
   "execution_count": 17,
   "id": "105e481f-0d2d-4640-858a-33ea6e444f50",
   "metadata": {},
   "outputs": [
    {
     "data": {
      "text/plain": [
       "(1, 23.3, [3, 4, 5], 'pwskills')"
      ]
     },
     "execution_count": 17,
     "metadata": {},
     "output_type": "execute_result"
    }
   ],
   "source": [
    "fun(1,23.3,[3,4,5],'pwskills')"
   ]
  },
  {
   "cell_type": "code",
   "execution_count": 3,
   "id": "f7a8996a-72f2-4cb0-8dec-90b48029eed9",
   "metadata": {},
   "outputs": [],
   "source": [
    "def test(**kwargs):\n",
    "    return kwargs"
   ]
  },
  {
   "cell_type": "code",
   "execution_count": 4,
   "id": "94bafbb1-ad40-4728-a790-7d4ece0c1dd6",
   "metadata": {},
   "outputs": [
    {
     "data": {
      "text/plain": [
       "dict"
      ]
     },
     "execution_count": 4,
     "metadata": {},
     "output_type": "execute_result"
    }
   ],
   "source": [
    "type(test())"
   ]
  },
  {
   "cell_type": "code",
   "execution_count": 5,
   "id": "5d3cddf7-620c-417b-9e84-bd834d1c9721",
   "metadata": {},
   "outputs": [
    {
     "data": {
      "text/plain": [
       "{'a': [1, 2, 3], 'b': 'kuldeep', 'c': (5+7j), 'd': False}"
      ]
     },
     "execution_count": 5,
     "metadata": {},
     "output_type": "execute_result"
    }
   ],
   "source": [
    "test(a=[1,2,3] ,b='kuldeep', c=5+7j ,d=False)"
   ]
  },
  {
   "cell_type": "markdown",
   "id": "7fb72333-0491-44ab-97fd-abfea959436d",
   "metadata": {},
   "source": [
    "Question NO.3---"
   ]
  },
  {
   "cell_type": "markdown",
   "id": "26c36ca1-bc9b-4d42-a5c6-69ed026b0fdb",
   "metadata": {},
   "source": [
    "Iterator-- IN python ,an iterator is an object that allows you to iterate loop through a collection of data such as list ,tuple or dictionary.\n",
    "  string is not a iterator function but it is a iterable object for making string as iterator we use 'iter()'keyword."
   ]
  },
  {
   "cell_type": "markdown",
   "id": "01c4aaae-4ca0-4262-8589-29453928ab45",
   "metadata": {},
   "source": [
    "In Python, the iter() method is used to initialize an iterator object, while the next() method is used for iteration."
   ]
  },
  {
   "cell_type": "code",
   "execution_count": 21,
   "id": "85c6113a-56d8-4096-aa82-b9ac0aba6a80",
   "metadata": {},
   "outputs": [],
   "source": [
    "l=[2,4,6,8,10,12,14,16,18,20]\n",
    "a=iter(l)"
   ]
  },
  {
   "cell_type": "code",
   "execution_count": 22,
   "id": "2d5ebaad-8377-42d2-ac9d-7e965b93f729",
   "metadata": {},
   "outputs": [
    {
     "name": "stdout",
     "output_type": "stream",
     "text": [
      "2\n"
     ]
    }
   ],
   "source": [
    "print(next(a))"
   ]
  },
  {
   "cell_type": "code",
   "execution_count": 23,
   "id": "6928ab8e-6867-4096-ba9a-ddc285ea7997",
   "metadata": {},
   "outputs": [
    {
     "name": "stdout",
     "output_type": "stream",
     "text": [
      "4\n"
     ]
    }
   ],
   "source": [
    "print(next(a))"
   ]
  },
  {
   "cell_type": "code",
   "execution_count": 24,
   "id": "3abe57ef-f0ad-4e5e-9d15-726342bdae9a",
   "metadata": {},
   "outputs": [
    {
     "name": "stdout",
     "output_type": "stream",
     "text": [
      "6\n"
     ]
    }
   ],
   "source": [
    "print(next(a))"
   ]
  },
  {
   "cell_type": "code",
   "execution_count": 25,
   "id": "3de77955-35ca-4233-bb5a-c3286ecc4c6f",
   "metadata": {},
   "outputs": [
    {
     "name": "stdout",
     "output_type": "stream",
     "text": [
      "8\n"
     ]
    }
   ],
   "source": [
    "print(next(a))"
   ]
  },
  {
   "cell_type": "code",
   "execution_count": 31,
   "id": "7ee6c9b1-6aa8-433f-92e8-dcd4655dff63",
   "metadata": {},
   "outputs": [
    {
     "data": {
      "text/plain": [
       "[2, 4, 6, 8, 10]"
      ]
     },
     "execution_count": 31,
     "metadata": {},
     "output_type": "execute_result"
    }
   ],
   "source": [
    "l[:5]"
   ]
  },
  {
   "cell_type": "markdown",
   "id": "946ae1cf-e8a8-48c3-be79-78d02eb21e4b",
   "metadata": {},
   "source": [
    "Question No.4"
   ]
  },
  {
   "cell_type": "markdown",
   "id": "98601da1-eb41-40a4-85c9-f637d87ef107",
   "metadata": {},
   "source": [
    "Generator Function -- A generator function is a function that can be used to create iterators. This functions use the 'yield' keyword in place of 'return'to return the values|"
   ]
  },
  {
   "cell_type": "markdown",
   "id": "062e8f29-59f0-4fab-ab47-80d36172f9e4",
   "metadata": {},
   "source": [
    "yield keyword is used in palce of 'return' for return the value while creating a Generator function"
   ]
  },
  {
   "cell_type": "code",
   "execution_count": 2,
   "id": "e8c41e12-c480-4e9d-b1c1-9b4382023acb",
   "metadata": {},
   "outputs": [],
   "source": [
    "def squares(n):\n",
    "    for i in range (n):\n",
    "        yield i**2"
   ]
  },
  {
   "cell_type": "code",
   "execution_count": 4,
   "id": "9137cb84-4a30-4bc9-9d8d-0deb05e19f18",
   "metadata": {},
   "outputs": [
    {
     "data": {
      "text/plain": [
       "<generator object squares at 0x7f777021f370>"
      ]
     },
     "execution_count": 4,
     "metadata": {},
     "output_type": "execute_result"
    }
   ],
   "source": [
    "squares(5)"
   ]
  },
  {
   "cell_type": "code",
   "execution_count": 7,
   "id": "89d22ebd-a63f-4b68-b92e-ef9c5d7cfc61",
   "metadata": {},
   "outputs": [
    {
     "name": "stdout",
     "output_type": "stream",
     "text": [
      "0\n",
      "1\n",
      "4\n",
      "9\n",
      "16\n",
      "25\n",
      "36\n",
      "49\n",
      "64\n",
      "81\n",
      "100\n"
     ]
    }
   ],
   "source": [
    "l=squares(11)\n",
    "for j in l:\n",
    "    print(j)"
   ]
  },
  {
   "cell_type": "markdown",
   "id": "9d296d19-e046-4eb3-91bc-5ba6a05ec4a4",
   "metadata": {},
   "source": [
    "Question No.5"
   ]
  },
  {
   "cell_type": "code",
   "execution_count": 11,
   "id": "d7f78c93-098f-47c2-96f1-713f1b3e60e4",
   "metadata": {},
   "outputs": [],
   "source": [
    "def primes():\n",
    "    yield 2\n",
    "    l = [2]\n",
    "    n = 3\n",
    "    while n < 1000:\n",
    "        is_prime = True\n",
    "        for prime in l:\n",
    "            if n % prime == 0:\n",
    "                is_prime = False\n",
    "                break\n",
    "        if is_prime:\n",
    "            yield n\n",
    "            l.append(n)\n",
    "        n += 2"
   ]
  },
  {
   "cell_type": "code",
   "execution_count": 20,
   "id": "273443d2-155d-45f3-8e5c-1ac6220b3750",
   "metadata": {},
   "outputs": [
    {
     "name": "stdout",
     "output_type": "stream",
     "text": [
      "2\n",
      "3\n",
      "5\n",
      "7\n",
      "11\n",
      "13\n",
      "17\n",
      "19\n",
      "23\n",
      "29\n",
      "31\n",
      "37\n",
      "41\n",
      "43\n",
      "47\n",
      "53\n",
      "59\n",
      "61\n",
      "67\n",
      "71\n"
     ]
    }
   ],
   "source": [
    "a = primes()\n",
    "for i in range(20):\n",
    "    print(next(a))   "
   ]
  },
  {
   "cell_type": "markdown",
   "id": "e7e1a399-e6db-48b2-b8d8-188a8804709e",
   "metadata": {},
   "source": [
    "Question NO.6"
   ]
  },
  {
   "cell_type": "code",
   "execution_count": 28,
   "id": "01f60854-972e-4fd9-8bc2-3139ef68dc2c",
   "metadata": {},
   "outputs": [
    {
     "name": "stdout",
     "output_type": "stream",
     "text": [
      "0\n",
      "1\n",
      "1\n",
      "2\n",
      "3\n",
      "5\n",
      "8\n",
      "13\n",
      "21\n",
      "34\n"
     ]
    }
   ],
   "source": [
    "a, b = 0, 1\n",
    "count = 0\n",
    "while count < 10:\n",
    "    print(a)\n",
    "    c = a + b\n",
    "    a = b\n",
    "    b = c\n",
    "    count +=1    "
   ]
  },
  {
   "cell_type": "markdown",
   "id": "ca63a928-40f6-4164-ae5d-5a304b26fb45",
   "metadata": {},
   "source": [
    "Question No.7"
   ]
  },
  {
   "cell_type": "code",
   "execution_count": 29,
   "id": "0bea0f01-24a3-473e-a9c3-a7024ebd2029",
   "metadata": {},
   "outputs": [],
   "source": [
    "s= 'pwskills'"
   ]
  },
  {
   "cell_type": "code",
   "execution_count": 32,
   "id": "3d2d85e5-c520-4ed8-a9d1-bb01edf00168",
   "metadata": {},
   "outputs": [
    {
     "name": "stdout",
     "output_type": "stream",
     "text": [
      "['p', 'w', 's', 'k', 'i', 'l', 'l', 's']\n"
     ]
    }
   ],
   "source": [
    "l=[]\n",
    "for i in s:\n",
    "    l.append(i)\n",
    "print(l)    "
   ]
  },
  {
   "cell_type": "markdown",
   "id": "6b93b85a-8997-45db-956d-6de51e4b44c6",
   "metadata": {},
   "source": [
    "Same code by using comprehension"
   ]
  },
  {
   "cell_type": "code",
   "execution_count": 34,
   "id": "80a56038-35fa-4acd-badb-b8cb01bf99b6",
   "metadata": {},
   "outputs": [
    {
     "data": {
      "text/plain": [
       "['p', 'w', 's', 'k', 'i', 'l', 'l', 's']"
      ]
     },
     "execution_count": 34,
     "metadata": {},
     "output_type": "execute_result"
    }
   ],
   "source": [
    "[i for i in s]"
   ]
  },
  {
   "cell_type": "markdown",
   "id": "eb0546d4-a46b-47fa-87b8-ab9db9b45d21",
   "metadata": {},
   "source": [
    "Question No.9"
   ]
  },
  {
   "cell_type": "markdown",
   "id": "82dfcb38-d06d-4b9a-9051-dba4eff3da73",
   "metadata": {},
   "source": [
    "code for print odd numbers from 1 to 100 using list comprehension"
   ]
  },
  {
   "cell_type": "code",
   "execution_count": 39,
   "id": "a248b4fb-8d38-4640-b7b3-bd6b9afac2ab",
   "metadata": {},
   "outputs": [],
   "source": [
    "l=list(range(1,100))"
   ]
  },
  {
   "cell_type": "code",
   "execution_count": 41,
   "id": "3932401f-e76c-42a6-8260-2240b6656600",
   "metadata": {},
   "outputs": [
    {
     "data": {
      "text/plain": [
       "[1,\n",
       " 3,\n",
       " 5,\n",
       " 7,\n",
       " 9,\n",
       " 11,\n",
       " 13,\n",
       " 15,\n",
       " 17,\n",
       " 19,\n",
       " 21,\n",
       " 23,\n",
       " 25,\n",
       " 27,\n",
       " 29,\n",
       " 31,\n",
       " 33,\n",
       " 35,\n",
       " 37,\n",
       " 39,\n",
       " 41,\n",
       " 43,\n",
       " 45,\n",
       " 47,\n",
       " 49,\n",
       " 51,\n",
       " 53,\n",
       " 55,\n",
       " 57,\n",
       " 59,\n",
       " 61,\n",
       " 63,\n",
       " 65,\n",
       " 67,\n",
       " 69,\n",
       " 71,\n",
       " 73,\n",
       " 75,\n",
       " 77,\n",
       " 79,\n",
       " 81,\n",
       " 83,\n",
       " 85,\n",
       " 87,\n",
       " 89,\n",
       " 91,\n",
       " 93,\n",
       " 95,\n",
       " 97,\n",
       " 99]"
      ]
     },
     "execution_count": 41,
     "metadata": {},
     "output_type": "execute_result"
    }
   ],
   "source": [
    "[i for i in l if i%2 !=0]"
   ]
  },
  {
   "cell_type": "markdown",
   "id": "45aae2e6-d8ef-4dab-ae58-111ef4b4ad65",
   "metadata": {},
   "source": [
    "Question NO.8"
   ]
  },
  {
   "cell_type": "code",
   "execution_count": null,
   "id": "3a893f3c-0687-4f9e-a308-155e28b3433b",
   "metadata": {},
   "outputs": [],
   "source": [
    "num=int(input('Enter a number:'))\n",
    "temp=num\n",
    "rev=0\n",
    "while temp>0:\n",
    "    reminder= temp%10\n",
    "    rev=(rev*10)+reminder\n",
    "    temp=10\n",
    "if num==rev:\n",
    "    print(num, 'is a palindrome')\n",
    "else:\n",
    "    print(num, 'is not a palindrom')"
   ]
  },
  {
   "cell_type": "code",
   "execution_count": null,
   "id": "93570c0d-2fb2-4120-bfb8-dc10cf49f7a2",
   "metadata": {},
   "outputs": [],
   "source": []
  }
 ],
 "metadata": {
  "kernelspec": {
   "display_name": "Python 3 (ipykernel)",
   "language": "python",
   "name": "python3"
  },
  "language_info": {
   "codemirror_mode": {
    "name": "ipython",
    "version": 3
   },
   "file_extension": ".py",
   "mimetype": "text/x-python",
   "name": "python",
   "nbconvert_exporter": "python",
   "pygments_lexer": "ipython3",
   "version": "3.10.8"
  }
 },
 "nbformat": 4,
 "nbformat_minor": 5
}
